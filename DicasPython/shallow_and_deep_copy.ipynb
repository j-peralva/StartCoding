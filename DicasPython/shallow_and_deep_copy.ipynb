{
 "cells": [
  {
   "cell_type": "markdown",
   "metadata": {
    "pycharm": {
     "name": "#%% md\n"
    }
   },
   "source": [
    "# Dicas de python\n",
    "## Dica #2: Shallow copy (cópia rasa) e Deep copy (cópia profunda)\n",
    "### Introdução\n",
    "Vamos fazer alguns testes com listas para entender seu funiconamento:"
   ]
  },
  {
   "cell_type": "code",
   "execution_count": 1,
   "metadata": {
    "pycharm": {
     "name": "#%% py\n"
    }
   },
   "outputs": [
    {
     "name": "stdout",
     "output_type": "stream",
     "text": [
      "[1, 2, 3] [4, 5, 6]\n"
     ]
    }
   ],
   "source": [
    "# Teste 1: Sobrescrevendo lista atribuída\n",
    "lista1 = [1, 2, 3]\n",
    "lista2 = lista1     # Tentando copiar a lista\n",
    "lista2 = [4, 5, 6]  # Sobrescrevendo a lista anterior\n",
    "print(lista1, lista2)"
   ]
  },
  {
   "cell_type": "markdown",
   "metadata": {},
   "source": [
    "No Teste 1 podemos verificar que ao atribuir uma nova lista a uma variável que contém uma lista, esta variável modifica\n",
    "seu \"ponteiro\" que passa a apontar para os endereços da memória da nova lista. Deixando a lista anterior inalterada"
   ]
  },
  {
   "cell_type": "code",
   "execution_count": 2,
   "metadata": {
    "pycharm": {
     "name": "#%% py\n"
    }
   },
   "outputs": [
    {
     "name": "stdout",
     "output_type": "stream",
     "text": [
      "[4, 5, 6] [4, 5, 6]\n"
     ]
    }
   ],
   "source": [
    "# Teste 2: Alterando elementos de lista atribuída\n",
    "lista1 = [1, 2, 3]\n",
    "lista2 = lista1\n",
    "for ind in range(len(lista2)):\n",
    "    lista2[ind] = ind + 4\n",
    "print(lista1, lista2)"
   ]
  },
  {
   "cell_type": "markdown",
   "metadata": {},
   "source": [
    "Observamos que quando tentamos copiar uma lista utilizando atribuíção na verdade não fazemos uma cópia da mesma, apenas\n",
    "geramos duas variáveis que apontam para os mesmos espaços na memória. Desta forma ao alterarmos os elementos de uma das\n",
    "\"cópias\" estamos alterando os elementos tanto de lista1 quanto de lista2. Como resolver isso?\n",
    "### Shallow copy"
   ]
  },
  {
   "cell_type": "code",
   "execution_count": 3,
   "metadata": {
    "pycharm": {
     "name": "#%%\n"
    },
    "scrolled": true
   },
   "outputs": [
    {
     "name": "stdout",
     "output_type": "stream",
     "text": [
      "[1, 2, 3] [4, 5, 6]\n"
     ]
    }
   ],
   "source": [
    "lista1 = [1, 2, 3]\n",
    "lista2 = lista1.copy()\n",
    "for ind in range(len(lista2)):\n",
    "    lista2[ind] = ind + 4\n",
    "print(lista1, lista2)"
   ]
  },
  {
   "cell_type": "code",
   "execution_count": 7,
   "metadata": {},
   "outputs": [
    {
     "name": "stdout",
     "output_type": "stream",
     "text": [
      "[1, 2, 3] [4, 5, 6]\n"
     ]
    }
   ],
   "source": [
    "# Outra forma de fazer o shallow copy\n",
    "\n",
    "from copy import copy as cp\n",
    "\n",
    "lista1 = [1, 2, 3]\n",
    "lista2 = cp(lista1)\n",
    "for ind in range(len(lista2)):\n",
    "    lista2[ind] = ind + 4\n",
    "print(lista1, lista2)"
   ]
  },
  {
   "cell_type": "markdown",
   "metadata": {},
   "source": [
    "E com listas aninhadas? O shallow copy funciona? Não, como veremos abaixo"
   ]
  },
  {
   "cell_type": "code",
   "execution_count": 8,
   "metadata": {},
   "outputs": [
    {
     "name": "stdout",
     "output_type": "stream",
     "text": [
      "Matriz 1\n",
      "|        a11                 a12                 a13         |\n",
      "|        a21                 a22                 a23         |\n",
      "|        a31                 a32                 a33         |\n",
      "\n",
      "Matriz 1 e 2\n",
      "|         1                   2                   3          |\n",
      "|         2                   4                   6          |\n",
      "|         3                   6                   9          |\n",
      "\n",
      "|         1                   2                   3          |\n",
      "|         2                   4                   6          |\n",
      "|         3                   6                   9          |\n",
      "\n"
     ]
    }
   ],
   "source": [
    "def imprime_matriz(matriz):\n",
    "    for lin in range(len(matriz)):\n",
    "        print(f'|', end='')\n",
    "        for col in range(len(matriz[lin])):\n",
    "            print(f'{matriz[lin][col]:^20s}', end='')\n",
    "        print(f'|')\n",
    "\n",
    "\n",
    "def altera_matriz(matriz):\n",
    "    for lin in range(len(matriz)):\n",
    "        for col in range(len(matriz[lin])):\n",
    "            matriz[lin][col] = f'{(lin+1)*(col+1)}'\n",
    "\n",
    "\n",
    "matriz1 = [[f'a{lin +1}{col +1}' for col in range(3)] for lin in range(3)]\n",
    "print('Matriz 1')\n",
    "imprime_matriz(matriz1)\n",
    "print()\n",
    "matriz2 = matriz1.copy()\n",
    "altera_matriz(matriz2)\n",
    "print('Matriz 1 e 2')\n",
    "imprime_matriz(matriz1)\n",
    "print()\n",
    "imprime_matriz(matriz2)\n",
    "print()"
   ]
  },
  {
   "cell_type": "markdown",
   "metadata": {},
   "source": [
    "### Deep copy"
   ]
  },
  {
   "cell_type": "code",
   "execution_count": 10,
   "metadata": {
    "pycharm": {
     "name": "#%%\n"
    }
   },
   "outputs": [
    {
     "name": "stdout",
     "output_type": "stream",
     "text": [
      "Matriz 1\n",
      "|        a11                 a12                 a13         |\n",
      "|        a21                 a22                 a23         |\n",
      "|        a31                 a32                 a33         |\n",
      "\n",
      "Matriz 1 e 2\n",
      "|        a11                 a12                 a13         |\n",
      "|        a21                 a22                 a23         |\n",
      "|        a31                 a32                 a33         |\n",
      "\n",
      "|         1                   2                   3          |\n",
      "|         2                   4                   6          |\n",
      "|         3                   6                   9          |\n",
      "\n"
     ]
    }
   ],
   "source": [
    "from copy import deepcopy\n",
    "\n",
    "\n",
    "def imprime_matriz(matriz):\n",
    "    for lin in range(len(matriz)):\n",
    "        print(f'|', end='')\n",
    "        for col in range(len(matriz[lin])):\n",
    "            print(f'{matriz[lin][col]:^20s}', end='')\n",
    "        print(f'|')\n",
    "\n",
    "\n",
    "def altera_matriz(matriz):\n",
    "    for lin in range(len(matriz)):\n",
    "        for col in range(len(matriz[lin])):\n",
    "            matriz[lin][col] = f'{(lin+1)*(col+1)}'\n",
    "\n",
    "\n",
    "matriz1 = [[f'a{lin +1}{col +1}' for col in range(3)] for lin in range(3)]\n",
    "print('Matriz 1')\n",
    "imprime_matriz(matriz1)\n",
    "print()\n",
    "matriz2 = deepcopy(matriz1)\n",
    "altera_matriz(matriz2)\n",
    "print('Matriz 1 e 2')\n",
    "imprime_matriz(matriz1)\n",
    "print()\n",
    "imprime_matriz(matriz2)\n",
    "print()\n"
   ]
  }
 ],
 "metadata": {
  "kernelspec": {
   "display_name": "Python 3",
   "language": "python",
   "name": "python3"
  },
  "language_info": {
   "codemirror_mode": {
    "name": "ipython",
    "version": 3
   },
   "file_extension": ".py",
   "mimetype": "text/x-python",
   "name": "python",
   "nbconvert_exporter": "python",
   "pygments_lexer": "ipython3",
   "version": "3.9.1"
  }
 },
 "nbformat": 4,
 "nbformat_minor": 1
}