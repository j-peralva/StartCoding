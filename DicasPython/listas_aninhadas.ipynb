{
 "cells": [
  {
   "cell_type": "markdown",
   "metadata": {
    "collapsed": true
   },
   "source": [
    "# Dicas de Python\n",
    "## Listas aninhadas\n",
    "Podemos fazer uso de listas aninhadas para emular uma matriz, porém como criar estas listas? Na dica de hoje vamos aprender como não fazer e como fazer para criar estas listas.\n",
    "\n",
    "No primeiro campo de código vamos criar uma lista de comprimento 3 com todos os elementos inicializados em 0, depois vamos percorrer a lista alterando seus valores e finalmente vamos imprimir a lista."
   ]
  },
  {
   "cell_type": "code",
   "execution_count": 2,
   "metadata": {},
   "outputs": [
    {
     "name": "stdout",
     "output_type": "stream",
     "text": [
      "[0, 0, 0]\n",
      "['a1', 'a2', 'a3']\n"
     ]
    }
   ],
   "source": [
    "lista = [0]*3\n",
    "print(lista)\n",
    "for ind in range(len(lista)):\n",
    "    lista[ind] = f'a{ind + 1}'\n",
    "print(lista)"
   ]
  },
  {
   "cell_type": "markdown",
   "metadata": {},
   "source": [
    "Podemos aplicar a mesma lógica utilizada anteriormente para listas aninhadas? Vamos tentar?"
   ]
  },
  {
   "cell_type": "code",
   "execution_count": 8,
   "metadata": {},
   "outputs": [
    {
     "name": "stdout",
     "output_type": "stream",
     "text": [
      "[[0, 0, 0], [0, 0, 0], [0, 0, 0]]\n",
      "[['a31', 'a32', 'a33'], ['a31', 'a32', 'a33'], ['a31', 'a32', 'a33']]\n",
      "[['valor alterado', 'a32', 'a33'], ['valor alterado', 'a32', 'a33'], ['valor alterado', 'a32', 'a33']]\n"
     ]
    }
   ],
   "source": [
    "matriz = [[0]*3]*3\n",
    "print(matriz)\n",
    "for lin in range(len(matriz)):\n",
    "    for col in range(len(matriz[lin])):\n",
    "        matriz[lin][col] = f'a{lin +1}{col +1}'\n",
    "print(matriz)\n",
    "matriz[0][0] = 'valor alterado'\n",
    "print(matriz)"
   ]
  },
  {
   "cell_type": "markdown",
   "metadata": {},
   "source": [
    "Então como fazer?"
   ]
  },
  {
   "cell_type": "code",
   "execution_count": 11,
   "metadata": {},
   "outputs": [
    {
     "name": "stdout",
     "output_type": "stream",
     "text": [
      "[[0, 0, 0], [0, 0, 0], [0, 0, 0]]\n",
      "[['a11', 'a12', 'a13'], ['a21', 'a22', 'a23'], ['a31', 'a32', 'a33']]\n",
      "[['valor alterado', 'a12', 'a13'], ['a21', 'a22', 'a23'], ['a31', 'a32', 'a33']]\n"
     ]
    }
   ],
   "source": [
    "matriz = []\n",
    "for lin in range(3):\n",
    "    aux = []\n",
    "    for col in range(3):\n",
    "        aux.append(0)\n",
    "    matriz.append(aux)\n",
    "print(matriz)\n",
    "for lin in range(len(matriz)):\n",
    "    for col in range(len(matriz[lin])):\n",
    "        matriz[lin][col] = f'a{lin +1}{col +1}'\n",
    "print(matriz)\n",
    "matriz[0][0] = 'valor alterado'\n",
    "print(matriz)"
   ]
  },
  {
   "cell_type": "code",
   "execution_count": 12,
   "metadata": {},
   "outputs": [
    {
     "name": "stdout",
     "output_type": "stream",
     "text": [
      "|        a11                 a12                 a13         |\n",
      "|        a21                 a22                 a23         |\n",
      "|        a31                 a32                 a33         |\n"
     ]
    }
   ],
   "source": [
    "matriz = []\n",
    "for lin in range(3):\n",
    "    aux = []\n",
    "    for col in range(3):\n",
    "        aux.append(0)\n",
    "    matriz.append(aux)\n",
    "for lin in range(len(matriz)):\n",
    "    for col in range(len(matriz[lin])):\n",
    "        matriz[lin][col] = f'a{lin +1}{col +1}'\n",
    "for lin in range(len(matriz)):\n",
    "    print(f'|', end='')\n",
    "    for col in range(len(matriz[lin])):\n",
    "        print(f'{matriz[lin][col]:^20s}', end='')\n",
    "    print(f'|')\n"
   ]
  }
 ],
 "metadata": {
  "kernelspec": {
   "display_name": "Python 3",
   "language": "python",
   "name": "python3"
  },
  "language_info": {
   "codemirror_mode": {
    "name": "ipython",
    "version": 3
   },
   "file_extension": ".py",
   "mimetype": "text/x-python",
   "name": "python",
   "nbconvert_exporter": "python",
   "pygments_lexer": "ipython3",
   "version": "3.9.1"
  }
 },
 "nbformat": 4,
 "nbformat_minor": 1
}
